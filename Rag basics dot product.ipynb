{
 "cells": [
  {
   "cell_type": "markdown",
   "id": "9a489df9",
   "metadata": {},
   "source": [
    "# First we will do deep dive in dot product part that is finding similarity between data \n"
   ]
  },
  {
   "cell_type": "code",
   "execution_count": 103,
   "id": "f03e120f",
   "metadata": {},
   "outputs": [],
   "source": [
    "#Things we will keep in our mind"
   ]
  },
  {
   "cell_type": "code",
   "execution_count": null,
   "id": "ba3d74a7",
   "metadata": {},
   "outputs": [],
   "source": [
    "#1) We cant get similarity even if we have just the embedding as frequency\n",
    "#so in order to have deal with it we are just finding the closest ones"
   ]
  },
  {
   "cell_type": "code",
   "execution_count": 104,
   "id": "71640527",
   "metadata": {},
   "outputs": [],
   "source": [
    "user_query='I am from dps and I like playing football'"
   ]
  },
  {
   "cell_type": "code",
   "execution_count": 105,
   "id": "7c0e7116",
   "metadata": {},
   "outputs": [
    {
     "data": {
      "text/plain": [
       "'I am from dps and I like playing football'"
      ]
     },
     "execution_count": 105,
     "metadata": {},
     "output_type": "execute_result"
    }
   ],
   "source": [
    "user_query"
   ]
  },
  {
   "cell_type": "code",
   "execution_count": 106,
   "id": "f83ea574",
   "metadata": {},
   "outputs": [
    {
     "data": {
      "text/plain": [
       "'Dps is the best school'"
      ]
     },
     "execution_count": 106,
     "metadata": {},
     "output_type": "execute_result"
    }
   ],
   "source": [
    "document='Dps is the best school'\n",
    "document"
   ]
  },
  {
   "cell_type": "code",
   "execution_count": 107,
   "id": "274d5bd4",
   "metadata": {},
   "outputs": [],
   "source": [
    "from collections import Counter\n",
    "import math"
   ]
  },
  {
   "cell_type": "code",
   "execution_count": 108,
   "id": "eab6fc02",
   "metadata": {},
   "outputs": [
    {
     "data": {
      "text/plain": [
       "['i', 'am', 'from', 'dps', 'and', 'i', 'like', 'playing', 'football']"
      ]
     },
     "execution_count": 108,
     "metadata": {},
     "output_type": "execute_result"
    }
   ],
   "source": [
    "q_t=user_query.lower().split(\" \")\n",
    "q_t"
   ]
  },
  {
   "cell_type": "code",
   "execution_count": 109,
   "id": "ac7cb000",
   "metadata": {},
   "outputs": [
    {
     "data": {
      "text/plain": [
       "['dps', 'is', 'the', 'best', 'school']"
      ]
     },
     "execution_count": 109,
     "metadata": {},
     "output_type": "execute_result"
    }
   ],
   "source": [
    "d=document.lower().split(\" \")\n",
    "d"
   ]
  },
  {
   "cell_type": "code",
   "execution_count": 110,
   "id": "083cad2c",
   "metadata": {},
   "outputs": [
    {
     "data": {
      "text/plain": [
       "Counter({'i': 2,\n",
       "         'am': 1,\n",
       "         'from': 1,\n",
       "         'dps': 1,\n",
       "         'and': 1,\n",
       "         'like': 1,\n",
       "         'playing': 1,\n",
       "         'football': 1})"
      ]
     },
     "execution_count": 110,
     "metadata": {},
     "output_type": "execute_result"
    }
   ],
   "source": [
    "q_c=Counter(q_t)\n",
    "\n",
    "q_c"
   ]
  },
  {
   "cell_type": "code",
   "execution_count": 111,
   "id": "41f2129d",
   "metadata": {},
   "outputs": [
    {
     "data": {
      "text/plain": [
       "Counter({'dps': 1, 'is': 1, 'the': 1, 'best': 1, 'school': 1})"
      ]
     },
     "execution_count": 111,
     "metadata": {},
     "output_type": "execute_result"
    }
   ],
   "source": [
    "d_c=Counter(d)\n",
    "d_c"
   ]
  },
  {
   "cell_type": "code",
   "execution_count": null,
   "id": "988028f4",
   "metadata": {},
   "outputs": [],
   "source": [
    "#Now cosing simi for both"
   ]
  },
  {
   "cell_type": "code",
   "execution_count": 112,
   "id": "ec3937fa",
   "metadata": {},
   "outputs": [],
   "source": [
    "data=[]\n",
    "for token in q_c.keys():\n",
    "    data.append(q_c[token])\n"
   ]
  },
  {
   "cell_type": "code",
   "execution_count": 113,
   "id": "0183d3e8",
   "metadata": {},
   "outputs": [
    {
     "data": {
      "text/plain": [
       "[2, 1, 1, 1, 1, 1, 1, 1]"
      ]
     },
     "execution_count": 113,
     "metadata": {},
     "output_type": "execute_result"
    }
   ],
   "source": [
    "data"
   ]
  },
  {
   "cell_type": "code",
   "execution_count": 114,
   "id": "82c9d53f",
   "metadata": {},
   "outputs": [],
   "source": [
    "# We are gettting the frequency as embdding and do cpsine similarity\n",
    "#but it is not useful for similarity"
   ]
  },
  {
   "cell_type": "code",
   "execution_count": 115,
   "id": "dc97a0ad",
   "metadata": {},
   "outputs": [],
   "source": [
    "#NOW WE NEED TO FIND THE WORD THAT ARE SIMILAR WITH 2 SENTANCES"
   ]
  },
  {
   "cell_type": "code",
   "execution_count": 116,
   "id": "9e9b38b5",
   "metadata": {},
   "outputs": [],
   "source": [
    "mydata=[]\n",
    "for tokens in q_c.keys() & d_c.keys():\n",
    "    mydata.append(q_c[tokens] * d_c[tokens])"
   ]
  },
  {
   "cell_type": "code",
   "execution_count": 117,
   "id": "9ee740d3",
   "metadata": {},
   "outputs": [
    {
     "data": {
      "text/plain": [
       "[1]"
      ]
     },
     "execution_count": 117,
     "metadata": {},
     "output_type": "execute_result"
    }
   ],
   "source": [
    "mydata"
   ]
  },
  {
   "cell_type": "code",
   "execution_count": null,
   "id": "6519fdfa",
   "metadata": {},
   "outputs": [],
   "source": [
    "#Now we will use the fomula of dot product= A.B/MAG[A]. MAG[B]"
   ]
  },
  {
   "cell_type": "code",
   "execution_count": 118,
   "id": "9d647a39",
   "metadata": {},
   "outputs": [],
   "source": [
    "dot_prod=sum(mydata)"
   ]
  },
  {
   "cell_type": "code",
   "execution_count": 119,
   "id": "9d03b85e",
   "metadata": {},
   "outputs": [
    {
     "data": {
      "text/plain": [
       "1"
      ]
     },
     "execution_count": 119,
     "metadata": {},
     "output_type": "execute_result"
    }
   ],
   "source": [
    "dot_prod"
   ]
  },
  {
   "cell_type": "code",
   "execution_count": 120,
   "id": "3c3e4b0c",
   "metadata": {},
   "outputs": [],
   "source": [
    "query_mag=math.sqrt(sum(q_c[tokens]**2 for token in q_c))"
   ]
  },
  {
   "cell_type": "code",
   "execution_count": 121,
   "id": "9b3019b5",
   "metadata": {},
   "outputs": [
    {
     "data": {
      "text/plain": [
       "2.8284271247461903"
      ]
     },
     "execution_count": 121,
     "metadata": {},
     "output_type": "execute_result"
    }
   ],
   "source": [
    "query_mag"
   ]
  },
  {
   "cell_type": "code",
   "execution_count": 122,
   "id": "b544e339",
   "metadata": {},
   "outputs": [],
   "source": [
    "doc_mag=math.sqrt(sum(d_c[tokens]**2 for token in d_c))"
   ]
  },
  {
   "cell_type": "code",
   "execution_count": 123,
   "id": "2f2bcc36",
   "metadata": {},
   "outputs": [
    {
     "data": {
      "text/plain": [
       "2.23606797749979"
      ]
     },
     "execution_count": 123,
     "metadata": {},
     "output_type": "execute_result"
    }
   ],
   "source": [
    "doc_mag"
   ]
  },
  {
   "cell_type": "code",
   "execution_count": 124,
   "id": "ccc3b4eb",
   "metadata": {},
   "outputs": [],
   "source": [
    "simi=(dot_prod)/(query_mag * doc_mag)"
   ]
  },
  {
   "cell_type": "code",
   "execution_count": 125,
   "id": "c2fa0e29",
   "metadata": {},
   "outputs": [
    {
     "data": {
      "text/plain": [
       "0.15811388300841897"
      ]
     },
     "execution_count": 125,
     "metadata": {},
     "output_type": "execute_result"
    }
   ],
   "source": [
    "simi"
   ]
  },
  {
   "cell_type": "code",
   "execution_count": null,
   "id": "6b3b5827",
   "metadata": {},
   "outputs": [],
   "source": [
    "#NOW DEALING WITH THE CORPUS"
   ]
  },
  {
   "cell_type": "code",
   "execution_count": 126,
   "id": "84f4761c",
   "metadata": {},
   "outputs": [],
   "source": [
    "def cosine_similarity(query, document):\n",
    "    # Tokenize and convert to lowercase\n",
    "    query_tokens = query.lower().split(\" \")\n",
    "    document_tokens = document.lower().split(\" \")\n",
    "\n",
    "    # Create Counters for query and document\n",
    "    query_counter = Counter(query_tokens)\n",
    "    document_counter = Counter(document_tokens)\n",
    "\n",
    "    # Calculate dot product\n",
    "    dot_product = sum(query_counter[token] * document_counter[token] for token in query_counter.keys() & document_counter.keys())\n",
    "\n",
    "    # Calculate magnitudes\n",
    "    query_magnitude = math.sqrt(sum(query_counter[token] ** 2 for token in query_counter))\n",
    "    document_magnitude = math.sqrt(sum(document_counter[token] ** 2 for token in document_counter))\n",
    "\n",
    "    # Calculate cosine similarity\n",
    "    similarity = dot_product / (query_magnitude * document_magnitude) if query_magnitude * document_magnitude != 0 else 0\n",
    "\n",
    "    return similarity\n"
   ]
  },
  {
   "cell_type": "code",
   "execution_count": 127,
   "id": "c05f421b",
   "metadata": {},
   "outputs": [],
   "source": [
    "\n",
    "def return_response(query, corpus):\n",
    "    similarities = []\n",
    "    for doc in corpus:\n",
    "        similarity = cosine_similarity(query, doc)\n",
    "        similarities.append(similarity)\n",
    "    return corpus[similarities.index(max(similarities))]"
   ]
  },
  {
   "cell_type": "code",
   "execution_count": 128,
   "id": "fd7f5399",
   "metadata": {},
   "outputs": [
    {
     "data": {
      "text/plain": [
       "['Transformers use self-attention to process sequences without recurrence.',\n",
       " 'Our Q2 revenue increased by 12% due to higher subscription renewals.',\n",
       " 'Vaccines train the immune system to recognize viral proteins.',\n",
       " 'A dedicated workspace improves remote work productivity.',\n",
       " 'Rinse basmati rice before cooking for fluffier grains.',\n",
       " 'We never sell personal data to third parties.',\n",
       " 'An onboarding tour helps new users explore core product features.',\n",
       " 'EV charging speed depends on charger power and battery capacity.',\n",
       " 'HTTP is a stateless request–response protocol.',\n",
       " 'Climate change is driven mainly by greenhouse gas emissions.',\n",
       " 'Segment your email list to improve deliverability.',\n",
       " 'Daily exercise improves cardiovascular health and mood.',\n",
       " 'Machine learning models improve with more high-quality data.',\n",
       " 'Meditation can reduce stress and improve focus.']"
      ]
     },
     "execution_count": 128,
     "metadata": {},
     "output_type": "execute_result"
    }
   ],
   "source": [
    "corpus"
   ]
  },
  {
   "cell_type": "code",
   "execution_count": 129,
   "id": "5289eb41",
   "metadata": {},
   "outputs": [],
   "source": [
    "user_input='what is machine learning'"
   ]
  },
  {
   "cell_type": "code",
   "execution_count": 130,
   "id": "5d7025ea",
   "metadata": {},
   "outputs": [],
   "source": [
    "ans=return_response(user_input,corpus)"
   ]
  },
  {
   "cell_type": "code",
   "execution_count": 131,
   "id": "3c8f4aeb",
   "metadata": {},
   "outputs": [
    {
     "data": {
      "text/plain": [
       "'Machine learning models improve with more high-quality data.'"
      ]
     },
     "execution_count": 131,
     "metadata": {},
     "output_type": "execute_result"
    }
   ],
   "source": [
    "ans"
   ]
  }
 ],
 "metadata": {
  "kernelspec": {
   "display_name": "Python 3 (ipykernel)",
   "language": "python",
   "name": "python3"
  },
  "language_info": {
   "codemirror_mode": {
    "name": "ipython",
    "version": 3
   },
   "file_extension": ".py",
   "mimetype": "text/x-python",
   "name": "python",
   "nbconvert_exporter": "python",
   "pygments_lexer": "ipython3",
   "version": "3.9.12"
  }
 },
 "nbformat": 4,
 "nbformat_minor": 5
}
